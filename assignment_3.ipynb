{
 "cells": [
  {
   "cell_type": "code",
   "execution_count": 1,
   "metadata": {},
   "outputs": [
    {
     "name": "stdout",
     "output_type": "stream",
     "text": [
      "Enter The Probability Of A 11/36\n",
      "Enter The Probability Of B 6/36\n",
      "Enter The Probability Of A|B 2/36\n",
      "Probability Of B|A  0.10185185185185185\n"
     ]
    }
   ],
   "source": [
    "#Question 1\n",
    "\n",
    "a=((input(\"Enter The Probability Of A \")).split('/'))\n",
    "a=int(a[0])/int(a[1])\n",
    "\n",
    "b=((input(\"Enter The Probability Of B \")).split('/'))\n",
    "b=int(b[0])/int(b[1])\n",
    "\n",
    "ab=((input(\"Enter The Probability Of A|B \")).split('/'))\n",
    "ab=int(ab[0])/int(ab[1])\n",
    "\n",
    "#Formula   P(A|B)=(P(B|A)*P(A))/P(B)\n",
    "\n",
    "print(\"Probability Of B|A \",(ab*a)/b)"
   ]
  },
  {
   "cell_type": "code",
   "execution_count": null,
   "metadata": {},
   "outputs": [],
   "source": []
  }
 ],
 "metadata": {
  "kernelspec": {
   "display_name": "Python 3",
   "language": "python",
   "name": "python3"
  },
  "language_info": {
   "codemirror_mode": {
    "name": "ipython",
    "version": 3
   },
   "file_extension": ".py",
   "mimetype": "text/x-python",
   "name": "python",
   "nbconvert_exporter": "python",
   "pygments_lexer": "ipython3",
   "version": "3.7.1"
  }
 },
 "nbformat": 4,
 "nbformat_minor": 2
}
