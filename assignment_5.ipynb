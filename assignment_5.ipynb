{
 "cells": [
  {
   "cell_type": "code",
   "execution_count": null,
   "metadata": {},
   "outputs": [],
   "source": [
    "#Question 1\n",
    "\n",
    "import pandas as pd\n",
    "df=pd.read_csv('weather.csv')\n",
    "print(\"--------------------Number of cells with missing data------------------\")\n",
    "print(df.isnull().sum())\n",
    "\n",
    "\n",
    "print(\"--------------------DataFrame With Missing Values Removed------------------\")\n",
    "df2=df.dropna()  #removing rows with missing values\n",
    "print(df2)\n",
    "\n",
    "\n",
    "print(\"-----------DataFrame With Missing Replaced By Mean Of Columns--------------\")\n",
    "df3=pd.read_csv('weather.csv')\n",
    "for i in df3.axes[1] : \n",
    "    try:\n",
    "        df3[i]=df3[i].fillna(df3[i].mean())\n",
    "    except:                                  \n",
    "                                             \n",
    "        df3[i]=df3[i].fillna(method='ffill') \n",
    "print(df3)\n",
    "\n",
    "\n",
    "print(\"--------------------------Individual DataTypes-----------------------------\")\n",
    "print(df.dtypes)\n",
    "\n",
    "\n",
    "print(\"----------------Temperature Column To Pandas Series------------------------\")\n",
    "s=pd.Series(df3['MinTemp']).rename('Temperature')  #renamed MinTemp to Temperature\n",
    "print(s)"
   ]
  }
 ],
 "metadata": {
  "kernelspec": {
   "display_name": "Python 3",
   "language": "python",
   "name": "python3"
  },
  "language_info": {
   "codemirror_mode": {
    "name": "ipython",
    "version": 3
   },
   "file_extension": ".py",
   "mimetype": "text/x-python",
   "name": "python",
   "nbconvert_exporter": "python",
   "pygments_lexer": "ipython3",
   "version": "3.7.1"
  }
 },
 "nbformat": 4,
 "nbformat_minor": 2
}
